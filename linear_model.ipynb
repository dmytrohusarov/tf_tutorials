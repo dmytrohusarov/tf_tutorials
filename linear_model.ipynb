{
 "cells": [
  {
   "cell_type": "code",
   "execution_count": 1,
   "metadata": {},
   "outputs": [],
   "source": [
    "import tensorflow as tf\n",
    "import tensorflow.feature_column as fc \n",
    "\n",
    "import os\n",
    "import sys\n",
    "\n",
    "import matplotlib.pyplot as plt\n",
    "from IPython.display import clear_output"
   ]
  },
  {
   "cell_type": "code",
   "execution_count": 2,
   "metadata": {},
   "outputs": [],
   "source": [
    "tf.enable_eager_execution()"
   ]
  },
  {
   "cell_type": "code",
   "execution_count": 6,
   "metadata": {},
   "outputs": [
    {
     "name": "stdout",
     "output_type": "stream",
     "text": [
      "Cloning into 'models'...\n",
      "remote: Enumerating objects: 3007, done.\u001b[K\n",
      "remote: Counting objects: 100% (3007/3007), done.\u001b[K\n",
      "remote: Compressing objects: 100% (2556/2556), done.\u001b[K\n",
      "remote: Total 3007 (delta 512), reused 1878 (delta 374), pack-reused 0\u001b[K\n",
      "Receiving objects: 100% (3007/3007), 377.00 MiB | 2.43 MiB/s, done.\n",
      "Resolving deltas: 100% (512/512), done.\n",
      "Checking out files: 100% (2836/2836), done.\n"
     ]
    }
   ],
   "source": [
    "! git clone --depth 1 https://github.com/tensorflow/models"
   ]
  },
  {
   "cell_type": "code",
   "execution_count": 7,
   "metadata": {},
   "outputs": [],
   "source": [
    "models_path = os.path.join(os.getcwd(), 'models')\n",
    "\n",
    "sys.path.append(models_path)"
   ]
  },
  {
   "cell_type": "code",
   "execution_count": 8,
   "metadata": {},
   "outputs": [],
   "source": [
    "from official.wide_deep import census_dataset\n",
    "from official.wide_deep import census_main\n",
    "\n",
    "census_dataset.download(\"/tmp/census_data/\")"
   ]
  },
  {
   "cell_type": "code",
   "execution_count": 9,
   "metadata": {},
   "outputs": [],
   "source": [
    "#export PYTHONPATH=${PYTHONPATH}:\"$(pwd)/models\"\n",
    "#running from python you need to set the `os.environ` or the subprocess will not see the directory.\n",
    "\n",
    "if \"PYTHONPATH\" in os.environ:\n",
    "  os.environ['PYTHONPATH'] += os.pathsep +  models_path\n",
    "else:\n",
    "  os.environ['PYTHONPATH'] = models_path"
   ]
  },
  {
   "cell_type": "code",
   "execution_count": 10,
   "metadata": {},
   "outputs": [
    {
     "name": "stdout",
     "output_type": "stream",
     "text": [
      "2018-11-08 17:33:36.098822: I tensorflow/core/platform/cpu_feature_guard.cc:141] Your CPU supports instructions that this TensorFlow binary was not compiled to use: AVX2 FMA\n",
      "Train DNN on census income dataset.\n",
      "flags:\n",
      "\n",
      "/Users/dmytro.husarov/Documents/TF_part/models/official/wide_deep/census_main.py:\n",
      "  -bs,--batch_size:\n",
      "    Batch size for training and evaluation. When using multiple gpus, this is\n",
      "    the\n",
      "    global batch size for all devices. For example, if the batch size is 32 and\n",
      "    there are 4 GPUs, each GPU will get 8 examples on each step.\n",
      "    (default: '40')\n",
      "    (an integer)\n",
      "  --[no]clean:\n",
      "    If set, model_dir will be removed if it exists.\n",
      "    (default: 'false')\n",
      "  -dd,--data_dir:\n",
      "    The location of the input data.\n",
      "    (default: '/tmp/census_data')\n",
      "  --[no]download_if_missing:\n",
      "    Download data to data_dir if it is not already present.\n",
      "    (default: 'true')\n",
      "  -ebe,--epochs_between_evals:\n",
      "    The number of training epochs to run between evaluations.\n",
      "    (default: '2')\n",
      "    (an integer)\n",
      "  -ed,--export_dir:\n",
      "    If set, a SavedModel serialization of the model will be exported to this\n",
      "    directory at the end of training. See the README for more details and\n",
      "    relevant\n",
      "    links.\n",
      "  -hk,--hooks:\n",
      "    A list of (case insensitive) strings to specify the names of training hooks.\n",
      "    ﻿  Hook:\n",
      "    ﻿    loggingtensorhook\n",
      "    ﻿    profilerhook\n",
      "    ﻿    examplespersecondhook\n",
      "    ﻿    loggingmetrichook\n",
      "    ﻿  Example: `--hooks ProfilerHook,ExamplesPerSecondHook`\n",
      "    See official.utils.logs.hooks_helper for details.\n",
      "    (default: 'LoggingTensorHook')\n",
      "    (a comma separated list)\n",
      "  -md,--model_dir:\n",
      "    The location of the model checkpoint files.\n",
      "    (default: '/tmp/census_model')\n",
      "  -mt,--model_type: <wide|deep|wide_deep>: Select model topology.\n",
      "    (default: 'wide_deep')\n",
      "  -te,--train_epochs:\n",
      "    The number of epochs used to train.\n",
      "    (default: '40')\n",
      "    (an integer)\n",
      "\n",
      "Try --helpfull to get a list of all flags.\n"
     ]
    }
   ],
   "source": [
    "!python -m official.wide_deep.census_main --help"
   ]
  },
  {
   "cell_type": "code",
   "execution_count": 11,
   "metadata": {},
   "outputs": [
    {
     "name": "stdout",
     "output_type": "stream",
     "text": [
      "2018-11-08 17:36:30.159608: I tensorflow/core/platform/cpu_feature_guard.cc:141] Your CPU supports instructions that this TensorFlow binary was not compiled to use: AVX2 FMA\n",
      "I1108 17:36:30.165760 4406298048 tf_logging.py:115] Using config: {'_model_dir': '/tmp/census_model', '_tf_random_seed': None, '_save_summary_steps': 100, '_save_checkpoints_steps': None, '_save_checkpoints_secs': 600, '_session_config': device_count {\n",
      "  key: \"GPU\"\n",
      "}\n",
      ", '_keep_checkpoint_max': 5, '_keep_checkpoint_every_n_hours': 10000, '_log_step_count_steps': 100, '_train_distribute': None, '_device_fn': None, '_service': None, '_cluster_spec': <tensorflow.python.training.server_lib.ClusterSpec object at 0xb2469df98>, '_task_type': 'worker', '_task_id': 0, '_global_id_in_cluster': 0, '_master': '', '_evaluation_master': '', '_is_chief': True, '_num_ps_replicas': 0, '_num_worker_replicas': 1}\n",
      "W1108 17:36:30.166917 4406298048 tf_logging.py:120] 'cpuinfo' not imported. CPU info will not be logged.\n",
      "I1108 17:36:30.236622 4406298048 tf_logging.py:115] Benchmark run: {'model_name': 'wide_deep', 'dataset': {'name': 'Census Income'}, 'machine_config': {'gpu_info': {'count': 0}, 'memory_total': 17179869184, 'memory_available': 5175984128}, 'test_id': None, 'run_date': '2018-11-08T15:36:30.166496Z', 'tensorflow_version': {'version': '1.10.0', 'git_hash': 'v1.10.0-rc1-19-g656e7a2b34'}, 'tensorflow_environment_variables': [], 'run_parameters': [{'name': 'batch_size', 'long_value': 40}, {'name': 'model_type', 'string_value': 'wide'}, {'name': 'train_epochs', 'long_value': 2}]}\n",
      "I1108 17:36:30.268769 4406298048 tf_logging.py:115] Parsing /tmp/census_data/adult.data\n",
      "I1108 17:36:30.316288 4406298048 tf_logging.py:115] Calling model_fn.\n",
      "I1108 17:36:31.432485 4406298048 tf_logging.py:115] Done calling model_fn.\n",
      "I1108 17:36:31.432723 4406298048 tf_logging.py:115] Create CheckpointSaverHook.\n",
      "I1108 17:36:32.262611 4406298048 tf_logging.py:115] Graph was finalized.\n",
      "I1108 17:36:32.398516 4406298048 tf_logging.py:115] Running local_init_op.\n",
      "I1108 17:36:32.422889 4406298048 tf_logging.py:115] Done running local_init_op.\n",
      "I1108 17:36:33.744405 4406298048 tf_logging.py:115] Saving checkpoints for 0 into /tmp/census_model/model.ckpt.\n",
      "I1108 17:36:34.723675 4406298048 tf_logging.py:115] average_loss = 0.6931472, loss = 27.725887\n",
      "I1108 17:36:34.723933 4406298048 tf_logging.py:115] loss = 27.725887, step = 1\n",
      "I1108 17:36:35.459430 4406298048 tf_logging.py:115] global_step/sec: 135.857\n",
      "I1108 17:36:35.460037 4406298048 tf_logging.py:115] average_loss = 0.36684757, loss = 14.673903 (0.736 sec)\n",
      "I1108 17:36:35.460169 4406298048 tf_logging.py:115] loss = 14.673903, step = 101 (0.736 sec)\n",
      "I1108 17:36:35.730992 4406298048 tf_logging.py:115] global_step/sec: 368.219\n",
      "I1108 17:36:35.731589 4406298048 tf_logging.py:115] average_loss = 0.2562046, loss = 10.248184 (0.272 sec)\n",
      "I1108 17:36:35.731714 4406298048 tf_logging.py:115] loss = 10.248184, step = 201 (0.272 sec)\n",
      "I1108 17:36:36.009469 4406298048 tf_logging.py:115] global_step/sec: 359.096\n",
      "I1108 17:36:36.010160 4406298048 tf_logging.py:115] average_loss = 0.35681954, loss = 14.272781 (0.279 sec)\n",
      "I1108 17:36:36.010337 4406298048 tf_logging.py:115] loss = 14.272781, step = 301 (0.279 sec)\n",
      "I1108 17:36:36.294441 4406298048 tf_logging.py:115] global_step/sec: 350.921\n",
      "I1108 17:36:36.295065 4406298048 tf_logging.py:115] average_loss = 0.457102, loss = 18.28408 (0.285 sec)\n",
      "I1108 17:36:36.295194 4406298048 tf_logging.py:115] loss = 18.28408, step = 401 (0.285 sec)\n",
      "I1108 17:36:36.565809 4406298048 tf_logging.py:115] global_step/sec: 368.494\n",
      "I1108 17:36:36.566393 4406298048 tf_logging.py:115] average_loss = 0.43380326, loss = 17.35213 (0.271 sec)\n",
      "I1108 17:36:36.566516 4406298048 tf_logging.py:115] loss = 17.35213, step = 501 (0.271 sec)\n",
      "I1108 17:36:36.856235 4406298048 tf_logging.py:115] global_step/sec: 344.324\n",
      "I1108 17:36:36.856840 4406298048 tf_logging.py:115] average_loss = 0.27143988, loss = 10.857595 (0.290 sec)\n",
      "I1108 17:36:36.856976 4406298048 tf_logging.py:115] loss = 10.857595, step = 601 (0.290 sec)\n",
      "I1108 17:36:37.123986 4406298048 tf_logging.py:115] global_step/sec: 373.482\n",
      "I1108 17:36:37.124553 4406298048 tf_logging.py:115] average_loss = 0.4023347, loss = 16.093388 (0.268 sec)\n",
      "I1108 17:36:37.124752 4406298048 tf_logging.py:115] loss = 16.093388, step = 701 (0.268 sec)\n",
      "I1108 17:36:37.409780 4406298048 tf_logging.py:115] global_step/sec: 349.891\n",
      "I1108 17:36:37.410352 4406298048 tf_logging.py:115] average_loss = 0.44049874, loss = 17.61995 (0.286 sec)\n",
      "I1108 17:36:37.410500 4406298048 tf_logging.py:115] loss = 17.61995, step = 801 (0.286 sec)\n",
      "I1108 17:36:37.749530 4406298048 tf_logging.py:115] global_step/sec: 294.345\n",
      "I1108 17:36:37.750161 4406298048 tf_logging.py:115] average_loss = 0.23724274, loss = 9.48971 (0.340 sec)\n",
      "I1108 17:36:37.750300 4406298048 tf_logging.py:115] loss = 9.48971, step = 901 (0.340 sec)\n",
      "I1108 17:36:38.023787 4406298048 tf_logging.py:115] global_step/sec: 364.634\n",
      "I1108 17:36:38.024591 4406298048 tf_logging.py:115] average_loss = 0.43195486, loss = 17.278194 (0.274 sec)\n",
      "I1108 17:36:38.024815 4406298048 tf_logging.py:115] loss = 17.278194, step = 1001 (0.275 sec)\n",
      "I1108 17:36:38.287920 4406298048 tf_logging.py:115] global_step/sec: 378.577\n",
      "I1108 17:36:38.288529 4406298048 tf_logging.py:115] average_loss = 0.2819996, loss = 11.2799835 (0.264 sec)\n",
      "I1108 17:36:38.288805 4406298048 tf_logging.py:115] loss = 11.2799835, step = 1101 (0.264 sec)\n",
      "I1108 17:36:38.563945 4406298048 tf_logging.py:115] global_step/sec: 362.294\n",
      "I1108 17:36:38.564540 4406298048 tf_logging.py:115] average_loss = 0.24902737, loss = 9.961095 (0.276 sec)\n",
      "I1108 17:36:38.564669 4406298048 tf_logging.py:115] loss = 9.961095, step = 1201 (0.276 sec)\n",
      "I1108 17:36:38.849159 4406298048 tf_logging.py:115] global_step/sec: 350.615\n",
      "I1108 17:36:38.849756 4406298048 tf_logging.py:115] average_loss = 0.25923172, loss = 10.369268 (0.285 sec)\n",
      "I1108 17:36:38.849968 4406298048 tf_logging.py:115] loss = 10.369268, step = 1301 (0.285 sec)\n",
      "I1108 17:36:39.119077 4406298048 tf_logging.py:115] global_step/sec: 370.485\n",
      "I1108 17:36:39.119681 4406298048 tf_logging.py:115] average_loss = 0.3510511, loss = 14.042044 (0.270 sec)\n",
      "I1108 17:36:39.119811 4406298048 tf_logging.py:115] loss = 14.042044, step = 1401 (0.270 sec)\n",
      "I1108 17:36:39.395794 4406298048 tf_logging.py:115] global_step/sec: 361.359\n",
      "I1108 17:36:39.396438 4406298048 tf_logging.py:115] average_loss = 0.38146636, loss = 15.258655 (0.277 sec)\n",
      "I1108 17:36:39.396677 4406298048 tf_logging.py:115] loss = 15.258655, step = 1501 (0.277 sec)\n",
      "I1108 17:36:39.691838 4406298048 tf_logging.py:115] global_step/sec: 337.823\n",
      "I1108 17:36:39.692495 4406298048 tf_logging.py:115] average_loss = 0.48243994, loss = 19.297598 (0.296 sec)\n",
      "I1108 17:36:39.692683 4406298048 tf_logging.py:115] loss = 19.297598, step = 1601 (0.296 sec)\n",
      "I1108 17:36:39.776590 4406298048 tf_logging.py:115] Saving checkpoints for 1629 into /tmp/census_model/model.ckpt.\n",
      "I1108 17:36:40.138703 4406298048 tf_logging.py:115] Loss for final step: 0.5006197.\n",
      "I1108 17:36:40.150006 4406298048 tf_logging.py:115] Parsing /tmp/census_data/adult.test\n",
      "I1108 17:36:40.186538 4406298048 tf_logging.py:115] Calling model_fn.\n",
      "W1108 17:36:41.508784 4406298048 tf_logging.py:125] Trapezoidal rule is known to produce incorrect PR-AUCs; please switch to \"careful_interpolation\" instead.\n",
      "W1108 17:36:41.534315 4406298048 tf_logging.py:125] Trapezoidal rule is known to produce incorrect PR-AUCs; please switch to \"careful_interpolation\" instead.\n",
      "I1108 17:36:41.560304 4406298048 tf_logging.py:115] Done calling model_fn.\n",
      "I1108 17:36:41.585754 4406298048 tf_logging.py:115] Starting evaluation at 2018-11-08-15:36:41\n",
      "I1108 17:36:41.740747 4406298048 tf_logging.py:115] Graph was finalized.\n",
      "I1108 17:36:41.741762 4406298048 tf_logging.py:115] Restoring parameters from /tmp/census_model/model.ckpt-1629\n",
      "I1108 17:36:41.815937 4406298048 tf_logging.py:115] Running local_init_op.\n",
      "I1108 17:36:41.869193 4406298048 tf_logging.py:115] Done running local_init_op.\n",
      "I1108 17:36:43.804821 4406298048 tf_logging.py:115] Finished evaluation at 2018-11-08-15:36:43\n",
      "I1108 17:36:43.805029 4406298048 tf_logging.py:115] Saving dict for global step 1629: accuracy = 0.8360666, accuracy_baseline = 0.76377374, auc = 0.8840066, auc_precision_recall = 0.6960121, average_loss = 0.3514061, global_step = 1629, label/mean = 0.23622628, loss = 14.022654, precision = 0.7054101, prediction/mean = 0.22473687, recall = 0.52548105\n"
     ]
    },
    {
     "name": "stdout",
     "output_type": "stream",
     "text": [
      "I1108 17:36:44.511681 4406298048 tf_logging.py:115] Saving 'checkpoint_path' summary for global step 1629: /tmp/census_model/model.ckpt-1629\r\n",
      "I1108 17:36:44.512290 4406298048 tf_logging.py:115] Results at epoch 2 / 2\r\n",
      "I1108 17:36:44.512372 4406298048 tf_logging.py:115] ------------------------------------------------------------\r\n",
      "I1108 17:36:44.512442 4406298048 tf_logging.py:115] accuracy: 0.8360666\r\n",
      "I1108 17:36:44.512500 4406298048 tf_logging.py:115] accuracy_baseline: 0.76377374\r\n",
      "I1108 17:36:44.512553 4406298048 tf_logging.py:115] auc: 0.8840066\r\n",
      "I1108 17:36:44.512605 4406298048 tf_logging.py:115] auc_precision_recall: 0.6960121\r\n",
      "I1108 17:36:44.512658 4406298048 tf_logging.py:115] average_loss: 0.3514061\r\n",
      "I1108 17:36:44.512715 4406298048 tf_logging.py:115] global_step: 1629\r\n",
      "I1108 17:36:44.512767 4406298048 tf_logging.py:115] label/mean: 0.23622628\r\n",
      "I1108 17:36:44.512819 4406298048 tf_logging.py:115] loss: 14.022654\r\n",
      "I1108 17:36:44.512871 4406298048 tf_logging.py:115] precision: 0.7054101\r\n",
      "I1108 17:36:44.512922 4406298048 tf_logging.py:115] prediction/mean: 0.22473687\r\n",
      "I1108 17:36:44.512973 4406298048 tf_logging.py:115] recall: 0.52548105\r\n",
      "I1108 17:36:44.513094 4406298048 tf_logging.py:115] Benchmark metric: {'name': 'accuracy', 'value': 0.8360666036605835, 'unit': None, 'global_step': 1629, 'timestamp': '2018-11-08T15:36:44.513060Z', 'extras': []}\r\n",
      "I1108 17:36:44.513191 4406298048 tf_logging.py:115] Benchmark metric: {'name': 'accuracy_baseline', 'value': 0.7637737393379211, 'unit': None, 'global_step': 1629, 'timestamp': '2018-11-08T15:36:44.513171Z', 'extras': []}\r\n",
      "I1108 17:36:44.513285 4406298048 tf_logging.py:115] Benchmark metric: {'name': 'auc', 'value': 0.8840066194534302, 'unit': None, 'global_step': 1629, 'timestamp': '2018-11-08T15:36:44.513267Z', 'extras': []}\r\n",
      "I1108 17:36:44.513366 4406298048 tf_logging.py:115] Benchmark metric: {'name': 'auc_precision_recall', 'value': 0.6960120797157288, 'unit': None, 'global_step': 1629, 'timestamp': '2018-11-08T15:36:44.513349Z', 'extras': []}\r\n",
      "I1108 17:36:44.513446 4406298048 tf_logging.py:115] Benchmark metric: {'name': 'average_loss', 'value': 0.3514060974121094, 'unit': None, 'global_step': 1629, 'timestamp': '2018-11-08T15:36:44.513429Z', 'extras': []}\r\n",
      "I1108 17:36:44.513525 4406298048 tf_logging.py:115] Benchmark metric: {'name': 'label/mean', 'value': 0.23622627556324005, 'unit': None, 'global_step': 1629, 'timestamp': '2018-11-08T15:36:44.513508Z', 'extras': []}\r\n",
      "I1108 17:36:44.513604 4406298048 tf_logging.py:115] Benchmark metric: {'name': 'loss', 'value': 14.022653579711914, 'unit': None, 'global_step': 1629, 'timestamp': '2018-11-08T15:36:44.513586Z', 'extras': []}\r\n",
      "I1108 17:36:44.513681 4406298048 tf_logging.py:115] Benchmark metric: {'name': 'precision', 'value': 0.7054101228713989, 'unit': None, 'global_step': 1629, 'timestamp': '2018-11-08T15:36:44.513665Z', 'extras': []}\r\n",
      "I1108 17:36:44.513758 4406298048 tf_logging.py:115] Benchmark metric: {'name': 'prediction/mean', 'value': 0.22473686933517456, 'unit': None, 'global_step': 1629, 'timestamp': '2018-11-08T15:36:44.513742Z', 'extras': []}\r\n",
      "I1108 17:36:44.513837 4406298048 tf_logging.py:115] Benchmark metric: {'name': 'recall', 'value': 0.5254810452461243, 'unit': None, 'global_step': 1629, 'timestamp': '2018-11-08T15:36:44.513820Z', 'extras': []}\r\n"
     ]
    }
   ],
   "source": [
    "!python -m official.wide_deep.census_main --model_type=wide --train_epochs=2"
   ]
  },
  {
   "cell_type": "code",
   "execution_count": 12,
   "metadata": {},
   "outputs": [
    {
     "name": "stdout",
     "output_type": "stream",
     "text": [
      "adult.data adult.test\r\n"
     ]
    }
   ],
   "source": [
    "!ls  /tmp/census_data/"
   ]
  },
  {
   "cell_type": "code",
   "execution_count": 13,
   "metadata": {},
   "outputs": [],
   "source": [
    "train_file = \"/tmp/census_data/adult.data\"\n",
    "test_file = \"/tmp/census_data/adult.test\""
   ]
  },
  {
   "cell_type": "code",
   "execution_count": 14,
   "metadata": {},
   "outputs": [
    {
     "data": {
      "text/html": [
       "<div>\n",
       "<style scoped>\n",
       "    .dataframe tbody tr th:only-of-type {\n",
       "        vertical-align: middle;\n",
       "    }\n",
       "\n",
       "    .dataframe tbody tr th {\n",
       "        vertical-align: top;\n",
       "    }\n",
       "\n",
       "    .dataframe thead th {\n",
       "        text-align: right;\n",
       "    }\n",
       "</style>\n",
       "<table border=\"1\" class=\"dataframe\">\n",
       "  <thead>\n",
       "    <tr style=\"text-align: right;\">\n",
       "      <th></th>\n",
       "      <th>age</th>\n",
       "      <th>workclass</th>\n",
       "      <th>fnlwgt</th>\n",
       "      <th>education</th>\n",
       "      <th>education_num</th>\n",
       "      <th>marital_status</th>\n",
       "      <th>occupation</th>\n",
       "      <th>relationship</th>\n",
       "      <th>race</th>\n",
       "      <th>gender</th>\n",
       "      <th>capital_gain</th>\n",
       "      <th>capital_loss</th>\n",
       "      <th>hours_per_week</th>\n",
       "      <th>native_country</th>\n",
       "      <th>income_bracket</th>\n",
       "    </tr>\n",
       "  </thead>\n",
       "  <tbody>\n",
       "    <tr>\n",
       "      <th>0</th>\n",
       "      <td>39</td>\n",
       "      <td>State-gov</td>\n",
       "      <td>77516</td>\n",
       "      <td>Bachelors</td>\n",
       "      <td>13</td>\n",
       "      <td>Never-married</td>\n",
       "      <td>Adm-clerical</td>\n",
       "      <td>Not-in-family</td>\n",
       "      <td>White</td>\n",
       "      <td>Male</td>\n",
       "      <td>2174</td>\n",
       "      <td>0</td>\n",
       "      <td>40</td>\n",
       "      <td>United-States</td>\n",
       "      <td>&lt;=50K</td>\n",
       "    </tr>\n",
       "    <tr>\n",
       "      <th>1</th>\n",
       "      <td>50</td>\n",
       "      <td>Self-emp-not-inc</td>\n",
       "      <td>83311</td>\n",
       "      <td>Bachelors</td>\n",
       "      <td>13</td>\n",
       "      <td>Married-civ-spouse</td>\n",
       "      <td>Exec-managerial</td>\n",
       "      <td>Husband</td>\n",
       "      <td>White</td>\n",
       "      <td>Male</td>\n",
       "      <td>0</td>\n",
       "      <td>0</td>\n",
       "      <td>13</td>\n",
       "      <td>United-States</td>\n",
       "      <td>&lt;=50K</td>\n",
       "    </tr>\n",
       "    <tr>\n",
       "      <th>2</th>\n",
       "      <td>38</td>\n",
       "      <td>Private</td>\n",
       "      <td>215646</td>\n",
       "      <td>HS-grad</td>\n",
       "      <td>9</td>\n",
       "      <td>Divorced</td>\n",
       "      <td>Handlers-cleaners</td>\n",
       "      <td>Not-in-family</td>\n",
       "      <td>White</td>\n",
       "      <td>Male</td>\n",
       "      <td>0</td>\n",
       "      <td>0</td>\n",
       "      <td>40</td>\n",
       "      <td>United-States</td>\n",
       "      <td>&lt;=50K</td>\n",
       "    </tr>\n",
       "    <tr>\n",
       "      <th>3</th>\n",
       "      <td>53</td>\n",
       "      <td>Private</td>\n",
       "      <td>234721</td>\n",
       "      <td>11th</td>\n",
       "      <td>7</td>\n",
       "      <td>Married-civ-spouse</td>\n",
       "      <td>Handlers-cleaners</td>\n",
       "      <td>Husband</td>\n",
       "      <td>Black</td>\n",
       "      <td>Male</td>\n",
       "      <td>0</td>\n",
       "      <td>0</td>\n",
       "      <td>40</td>\n",
       "      <td>United-States</td>\n",
       "      <td>&lt;=50K</td>\n",
       "    </tr>\n",
       "    <tr>\n",
       "      <th>4</th>\n",
       "      <td>28</td>\n",
       "      <td>Private</td>\n",
       "      <td>338409</td>\n",
       "      <td>Bachelors</td>\n",
       "      <td>13</td>\n",
       "      <td>Married-civ-spouse</td>\n",
       "      <td>Prof-specialty</td>\n",
       "      <td>Wife</td>\n",
       "      <td>Black</td>\n",
       "      <td>Female</td>\n",
       "      <td>0</td>\n",
       "      <td>0</td>\n",
       "      <td>40</td>\n",
       "      <td>Cuba</td>\n",
       "      <td>&lt;=50K</td>\n",
       "    </tr>\n",
       "  </tbody>\n",
       "</table>\n",
       "</div>"
      ],
      "text/plain": [
       "   age         workclass  fnlwgt  education  education_num  \\\n",
       "0   39         State-gov   77516  Bachelors             13   \n",
       "1   50  Self-emp-not-inc   83311  Bachelors             13   \n",
       "2   38           Private  215646    HS-grad              9   \n",
       "3   53           Private  234721       11th              7   \n",
       "4   28           Private  338409  Bachelors             13   \n",
       "\n",
       "       marital_status         occupation   relationship   race  gender  \\\n",
       "0       Never-married       Adm-clerical  Not-in-family  White    Male   \n",
       "1  Married-civ-spouse    Exec-managerial        Husband  White    Male   \n",
       "2            Divorced  Handlers-cleaners  Not-in-family  White    Male   \n",
       "3  Married-civ-spouse  Handlers-cleaners        Husband  Black    Male   \n",
       "4  Married-civ-spouse     Prof-specialty           Wife  Black  Female   \n",
       "\n",
       "   capital_gain  capital_loss  hours_per_week native_country income_bracket  \n",
       "0          2174             0              40  United-States          <=50K  \n",
       "1             0             0              13  United-States          <=50K  \n",
       "2             0             0              40  United-States          <=50K  \n",
       "3             0             0              40  United-States          <=50K  \n",
       "4             0             0              40           Cuba          <=50K  "
      ]
     },
     "execution_count": 14,
     "metadata": {},
     "output_type": "execute_result"
    }
   ],
   "source": [
    "import pandas\n",
    "\n",
    "train_df = pandas.read_csv(train_file, header = None, names = census_dataset._CSV_COLUMNS)\n",
    "test_df = pandas.read_csv(test_file, header = None, names = census_dataset._CSV_COLUMNS)\n",
    "\n",
    "train_df.head()"
   ]
  },
  {
   "cell_type": "code",
   "execution_count": 15,
   "metadata": {},
   "outputs": [],
   "source": [
    "def easy_input_function(df, label_key, num_epochs, shuffle, batch_size):\n",
    "  label = df[label_key]\n",
    "  ds = tf.data.Dataset.from_tensor_slices((dict(df),label))\n",
    "\n",
    "  if shuffle:\n",
    "    ds = ds.shuffle(10000)\n",
    "\n",
    "  ds = ds.batch(batch_size).repeat(num_epochs)\n",
    "\n",
    "  return ds"
   ]
  },
  {
   "cell_type": "code",
   "execution_count": 16,
   "metadata": {},
   "outputs": [
    {
     "name": "stdout",
     "output_type": "stream",
     "text": [
      "Some feature keys: ['age', 'workclass', 'fnlwgt', 'education', 'education_num']\n",
      "\n",
      "A batch of Ages  : tf.Tensor([59 17 31 25 22 34 51 25 40 22], shape=(10,), dtype=int32)\n",
      "\n",
      "A batch of Labels: tf.Tensor(\n",
      "[b'<=50K' b'<=50K' b'<=50K' b'<=50K' b'<=50K' b'<=50K' b'<=50K' b'<=50K'\n",
      " b'<=50K' b'<=50K'], shape=(10,), dtype=string)\n"
     ]
    }
   ],
   "source": [
    "ds = easy_input_function(train_df, label_key='income_bracket', num_epochs=5, shuffle=True, batch_size=10)\n",
    "\n",
    "for feature_batch, label_batch in ds.take(1):\n",
    "  print('Some feature keys:', list(feature_batch.keys())[:5])\n",
    "  print()\n",
    "  print('A batch of Ages  :', feature_batch['age'])\n",
    "  print()\n",
    "  print('A batch of Labels:', label_batch )"
   ]
  },
  {
   "cell_type": "code",
   "execution_count": 17,
   "metadata": {},
   "outputs": [
    {
     "name": "stdout",
     "output_type": "stream",
     "text": [
      "def input_fn(data_file, num_epochs, shuffle, batch_size):\n",
      "  \"\"\"Generate an input function for the Estimator.\"\"\"\n",
      "  assert tf.gfile.Exists(data_file), (\n",
      "      '%s not found. Please make sure you have run census_dataset.py and '\n",
      "      'set the --data_dir argument to the correct path.' % data_file)\n",
      "\n",
      "  def parse_csv(value):\n",
      "    tf.logging.info('Parsing {}'.format(data_file))\n",
      "    columns = tf.decode_csv(value, record_defaults=_CSV_COLUMN_DEFAULTS)\n",
      "    features = dict(zip(_CSV_COLUMNS, columns))\n",
      "    labels = features.pop('income_bracket')\n",
      "    classes = tf.equal(labels, '>50K')  # binary classification\n",
      "    return features, classes\n",
      "\n",
      "  # Extract lines from input files using the Dataset API.\n",
      "  dataset = tf.data.TextLineDataset(data_file)\n",
      "\n",
      "  if shuffle:\n",
      "    dataset = dataset.shuffle(buffer_size=_NUM_EXAMPLES['train'])\n",
      "\n",
      "  dataset = dataset.map(parse_csv, num_parallel_calls=5)\n",
      "\n",
      "  # We call repeat after shuffling, rather than before, to prevent separate\n",
      "  # epochs from blending together.\n",
      "  dataset = dataset.repeat(num_epochs)\n",
      "  dataset = dataset.batch(batch_size)\n",
      "  return dataset\n",
      "\n"
     ]
    }
   ],
   "source": [
    "import inspect\n",
    "print(inspect.getsource(census_dataset.input_fn))"
   ]
  },
  {
   "cell_type": "code",
   "execution_count": 18,
   "metadata": {},
   "outputs": [
    {
     "name": "stdout",
     "output_type": "stream",
     "text": [
      "INFO:tensorflow:Parsing /tmp/census_data/adult.data\n"
     ]
    },
    {
     "name": "stderr",
     "output_type": "stream",
     "text": [
      "WARNING: Logging before flag parsing goes to stderr.\n",
      "I1108 17:40:40.388402 4508718528 tf_logging.py:115] Parsing /tmp/census_data/adult.data\n"
     ]
    },
    {
     "name": "stdout",
     "output_type": "stream",
     "text": [
      "Feature keys: ['age', 'workclass', 'fnlwgt', 'education', 'education_num']\n",
      "\n",
      "Age batch   : tf.Tensor([43 57 19 37 25 29 60 18 50 21], shape=(10,), dtype=int32)\n",
      "\n",
      "Label batch : tf.Tensor([False False False False False False False False  True False], shape=(10,), dtype=bool)\n"
     ]
    }
   ],
   "source": [
    "ds = census_dataset.input_fn(train_file, num_epochs=5, shuffle=True, batch_size=10)\n",
    "\n",
    "for feature_batch, label_batch in ds.take(1):\n",
    "  print('Feature keys:', list(feature_batch.keys())[:5])\n",
    "  print()\n",
    "  print('Age batch   :', feature_batch['age'])\n",
    "  print()\n",
    "  print('Label batch :', label_batch )"
   ]
  },
  {
   "cell_type": "code",
   "execution_count": 19,
   "metadata": {},
   "outputs": [],
   "source": [
    "import functools\n",
    "\n",
    "train_inpf = functools.partial(census_dataset.input_fn, train_file, num_epochs=2, shuffle=True, batch_size=64)\n",
    "test_inpf = functools.partial(census_dataset.input_fn, test_file, num_epochs=1, shuffle=False, batch_size=64)"
   ]
  },
  {
   "cell_type": "code",
   "execution_count": 20,
   "metadata": {},
   "outputs": [],
   "source": [
    "age = fc.numeric_column('age')"
   ]
  },
  {
   "cell_type": "code",
   "execution_count": 21,
   "metadata": {},
   "outputs": [
    {
     "data": {
      "text/plain": [
       "array([[43.],\n",
       "       [57.],\n",
       "       [19.],\n",
       "       [37.],\n",
       "       [25.],\n",
       "       [29.],\n",
       "       [60.],\n",
       "       [18.],\n",
       "       [50.],\n",
       "       [21.]], dtype=float32)"
      ]
     },
     "execution_count": 21,
     "metadata": {},
     "output_type": "execute_result"
    }
   ],
   "source": [
    "fc.input_layer(feature_batch, [age]).numpy()"
   ]
  },
  {
   "cell_type": "code",
   "execution_count": 22,
   "metadata": {},
   "outputs": [
    {
     "name": "stdout",
     "output_type": "stream",
     "text": [
      "{'accuracy': 0.7590443, 'accuracy_baseline': 0.76377374, 'auc': 0.67836696, 'auc_precision_recall': 0.3113954, 'average_loss': 0.5234223, 'label/mean': 0.23622628, 'loss': 33.418976, 'precision': 0.14678898, 'prediction/mean': 0.24813151, 'recall': 0.0041601663, 'global_step': 1018}\n"
     ]
    }
   ],
   "source": [
    "classifier = tf.estimator.LinearClassifier(feature_columns=[age])\n",
    "classifier.train(train_inpf)\n",
    "result = classifier.evaluate(test_inpf)\n",
    "\n",
    "clear_output()  # used for display in notebook\n",
    "print(result)"
   ]
  },
  {
   "cell_type": "code",
   "execution_count": 23,
   "metadata": {},
   "outputs": [
    {
     "data": {
      "text/plain": [
       "array([[  43.,    0.,    0.,   10.,   40.],\n",
       "       [  57.,    0.,    0.,   13.,   40.],\n",
       "       [  19.,    0.,    0.,   10.,   25.],\n",
       "       [  37.,    0.,    0.,   12.,   45.],\n",
       "       [  25.,    0.,    0.,   13.,   80.],\n",
       "       [  29.,    0.,    0.,    9.,   48.],\n",
       "       [  60.,    0.,    0.,    9.,   40.],\n",
       "       [  18.,    0.,    0.,    8.,   20.],\n",
       "       [  50.,    0., 1887.,   11.,   36.],\n",
       "       [  21.,    0.,    0.,   10.,   25.]], dtype=float32)"
      ]
     },
     "execution_count": 23,
     "metadata": {},
     "output_type": "execute_result"
    }
   ],
   "source": [
    "education_num = tf.feature_column.numeric_column('education_num')\n",
    "capital_gain = tf.feature_column.numeric_column('capital_gain')\n",
    "capital_loss = tf.feature_column.numeric_column('capital_loss')\n",
    "hours_per_week = tf.feature_column.numeric_column('hours_per_week')\n",
    "\n",
    "my_numeric_columns = [age,education_num, capital_gain, capital_loss, hours_per_week]\n",
    "\n",
    "fc.input_layer(feature_batch, my_numeric_columns).numpy()"
   ]
  },
  {
   "cell_type": "code",
   "execution_count": 24,
   "metadata": {},
   "outputs": [
    {
     "name": "stdout",
     "output_type": "stream",
     "text": [
      "accuracy: 0.78391993\n",
      "accuracy_baseline: 0.76377374\n",
      "auc: 0.7651626\n",
      "auc_precision_recall: 0.5320033\n",
      "average_loss: 1.798178\n",
      "global_step: 1018\n",
      "label/mean: 0.23622628\n",
      "loss: 114.80837\n",
      "precision: 0.6207658\n",
      "prediction/mean: 0.25746855\n",
      "recall: 0.21918876\n"
     ]
    }
   ],
   "source": [
    "classifier = tf.estimator.LinearClassifier(feature_columns=my_numeric_columns)\n",
    "classifier.train(train_inpf)\n",
    "\n",
    "result = classifier.evaluate(test_inpf)\n",
    "\n",
    "clear_output()\n",
    "\n",
    "for key,value in sorted(result.items()):\n",
    "  print('%s: %s' % (key, value))"
   ]
  },
  {
   "cell_type": "code",
   "execution_count": 25,
   "metadata": {},
   "outputs": [],
   "source": [
    "relationship = fc.categorical_column_with_vocabulary_list(\n",
    "    'relationship',\n",
    "    ['Husband', 'Not-in-family', 'Wife', 'Own-child', 'Unmarried', 'Other-relative'])"
   ]
  },
  {
   "cell_type": "code",
   "execution_count": 26,
   "metadata": {},
   "outputs": [
    {
     "data": {
      "text/plain": [
       "<tf.Tensor: id=4562, shape=(10, 7), dtype=float32, numpy=\n",
       "array([[43.,  0.,  0.,  0.,  0.,  1.,  0.],\n",
       "       [57.,  0.,  0.,  1.,  0.,  0.,  0.],\n",
       "       [19.,  0.,  0.,  0.,  1.,  0.,  0.],\n",
       "       [37.,  1.,  0.,  0.,  0.,  0.,  0.],\n",
       "       [25.,  0.,  1.,  0.,  0.,  0.,  0.],\n",
       "       [29.,  1.,  0.,  0.,  0.,  0.,  0.],\n",
       "       [60.,  0.,  0.,  0.,  0.,  1.,  0.],\n",
       "       [18.,  0.,  0.,  0.,  1.,  0.,  0.],\n",
       "       [50.,  0.,  0.,  1.,  0.,  0.,  0.],\n",
       "       [21.,  0.,  0.,  0.,  1.,  0.,  0.]], dtype=float32)>"
      ]
     },
     "execution_count": 26,
     "metadata": {},
     "output_type": "execute_result"
    }
   ],
   "source": [
    "fc.input_layer(feature_batch, [age, fc.indicator_column(relationship)])"
   ]
  },
  {
   "cell_type": "code",
   "execution_count": 27,
   "metadata": {},
   "outputs": [],
   "source": [
    "occupation = tf.feature_column.categorical_column_with_hash_bucket(\n",
    "    'occupation', hash_bucket_size=1000)"
   ]
  },
  {
   "cell_type": "code",
   "execution_count": 28,
   "metadata": {},
   "outputs": [
    {
     "name": "stdout",
     "output_type": "stream",
     "text": [
      "Adm-clerical\n",
      "Sales\n",
      "Sales\n",
      "Craft-repair\n",
      "Sales\n",
      "Craft-repair\n",
      "Machine-op-inspct\n",
      "Sales\n",
      "Prof-specialty\n",
      "?\n"
     ]
    }
   ],
   "source": [
    "for item in feature_batch['occupation'].numpy():\n",
    "    print(item.decode())"
   ]
  },
  {
   "cell_type": "code",
   "execution_count": 29,
   "metadata": {},
   "outputs": [
    {
     "data": {
      "text/plain": [
       "(10, 1000)"
      ]
     },
     "execution_count": 29,
     "metadata": {},
     "output_type": "execute_result"
    }
   ],
   "source": [
    "occupation_result = fc.input_layer(feature_batch, [fc.indicator_column(occupation)])\n",
    "\n",
    "occupation_result.numpy().shape"
   ]
  },
  {
   "cell_type": "code",
   "execution_count": 30,
   "metadata": {},
   "outputs": [
    {
     "data": {
      "text/plain": [
       "array([ 96, 631, 631, 466, 631, 466, 911, 631, 979,  65])"
      ]
     },
     "execution_count": 30,
     "metadata": {},
     "output_type": "execute_result"
    }
   ],
   "source": [
    "tf.argmax(occupation_result, axis=1).numpy()"
   ]
  },
  {
   "cell_type": "code",
   "execution_count": 31,
   "metadata": {},
   "outputs": [],
   "source": [
    "education = tf.feature_column.categorical_column_with_vocabulary_list(\n",
    "    'education', [\n",
    "        'Bachelors', 'HS-grad', '11th', 'Masters', '9th', 'Some-college',\n",
    "        'Assoc-acdm', 'Assoc-voc', '7th-8th', 'Doctorate', 'Prof-school',\n",
    "        '5th-6th', '10th', '1st-4th', 'Preschool', '12th'])\n",
    "\n",
    "marital_status = tf.feature_column.categorical_column_with_vocabulary_list(\n",
    "    'marital_status', [\n",
    "        'Married-civ-spouse', 'Divorced', 'Married-spouse-absent',\n",
    "        'Never-married', 'Separated', 'Married-AF-spouse', 'Widowed'])\n",
    "\n",
    "workclass = tf.feature_column.categorical_column_with_vocabulary_list(\n",
    "    'workclass', [\n",
    "        'Self-emp-not-inc', 'Private', 'State-gov', 'Federal-gov',\n",
    "        'Local-gov', '?', 'Self-emp-inc', 'Without-pay', 'Never-worked'])\n",
    "\n",
    "\n",
    "my_categorical_columns = [relationship, occupation, education, marital_status, workclass]"
   ]
  },
  {
   "cell_type": "code",
   "execution_count": 32,
   "metadata": {},
   "outputs": [
    {
     "name": "stdout",
     "output_type": "stream",
     "text": [
      "accuracy: 0.81745595\n",
      "accuracy_baseline: 0.76377374\n",
      "auc: 0.8596126\n",
      "auc_precision_recall: 0.6334305\n",
      "average_loss: 0.8174801\n",
      "global_step: 1018\n",
      "label/mean: 0.23622628\n",
      "loss: 52.1937\n",
      "precision: 0.61170757\n",
      "prediction/mean: 0.27084765\n",
      "recall: 0.6222049\n"
     ]
    }
   ],
   "source": [
    "classifier = tf.estimator.LinearClassifier(feature_columns=my_numeric_columns+my_categorical_columns)\n",
    "classifier.train(train_inpf)\n",
    "result = classifier.evaluate(test_inpf)\n",
    "\n",
    "clear_output()\n",
    "\n",
    "for key,value in sorted(result.items()):\n",
    "  print('%s: %s' % (key, value))"
   ]
  },
  {
   "cell_type": "code",
   "execution_count": 33,
   "metadata": {},
   "outputs": [],
   "source": [
    "age_buckets = tf.feature_column.bucketized_column(\n",
    "    age, boundaries=[18, 25, 30, 35, 40, 45, 50, 55, 60, 65])"
   ]
  },
  {
   "cell_type": "code",
   "execution_count": 34,
   "metadata": {},
   "outputs": [
    {
     "data": {
      "text/plain": [
       "array([[43.,  0.,  0.,  0.,  0.,  0.,  1.,  0.,  0.,  0.,  0.,  0.],\n",
       "       [57.,  0.,  0.,  0.,  0.,  0.,  0.,  0.,  0.,  1.,  0.,  0.],\n",
       "       [19.,  0.,  1.,  0.,  0.,  0.,  0.,  0.,  0.,  0.,  0.,  0.],\n",
       "       [37.,  0.,  0.,  0.,  0.,  1.,  0.,  0.,  0.,  0.,  0.,  0.],\n",
       "       [25.,  0.,  0.,  1.,  0.,  0.,  0.,  0.,  0.,  0.,  0.,  0.],\n",
       "       [29.,  0.,  0.,  1.,  0.,  0.,  0.,  0.,  0.,  0.,  0.,  0.],\n",
       "       [60.,  0.,  0.,  0.,  0.,  0.,  0.,  0.,  0.,  0.,  1.,  0.],\n",
       "       [18.,  0.,  1.,  0.,  0.,  0.,  0.,  0.,  0.,  0.,  0.,  0.],\n",
       "       [50.,  0.,  0.,  0.,  0.,  0.,  0.,  0.,  1.,  0.,  0.,  0.],\n",
       "       [21.,  0.,  1.,  0.,  0.,  0.,  0.,  0.,  0.,  0.,  0.,  0.]],\n",
       "      dtype=float32)"
      ]
     },
     "execution_count": 34,
     "metadata": {},
     "output_type": "execute_result"
    }
   ],
   "source": [
    "fc.input_layer(feature_batch, [age, age_buckets]).numpy()"
   ]
  },
  {
   "cell_type": "code",
   "execution_count": 35,
   "metadata": {},
   "outputs": [],
   "source": [
    "education_x_occupation = tf.feature_column.crossed_column(\n",
    "    ['education', 'occupation'], hash_bucket_size=1000)"
   ]
  },
  {
   "cell_type": "code",
   "execution_count": 36,
   "metadata": {},
   "outputs": [],
   "source": [
    "age_buckets_x_education_x_occupation = tf.feature_column.crossed_column(\n",
    "    [age_buckets, 'education', 'occupation'], hash_bucket_size=1000)"
   ]
  },
  {
   "cell_type": "code",
   "execution_count": 37,
   "metadata": {},
   "outputs": [
    {
     "name": "stdout",
     "output_type": "stream",
     "text": [
      "INFO:tensorflow:Using default config.\n"
     ]
    },
    {
     "name": "stderr",
     "output_type": "stream",
     "text": [
      "I1108 17:53:39.231945 4508718528 tf_logging.py:115] Using default config.\n"
     ]
    },
    {
     "name": "stdout",
     "output_type": "stream",
     "text": [
      "INFO:tensorflow:Using config: {'_model_dir': '/var/folders/3b/dmy02jxd7p5dr090fr5s2tq00000gn/T/tmpztea0mwd', '_tf_random_seed': None, '_save_summary_steps': 100, '_save_checkpoints_steps': None, '_save_checkpoints_secs': 600, '_session_config': None, '_keep_checkpoint_max': 5, '_keep_checkpoint_every_n_hours': 10000, '_log_step_count_steps': 100, '_train_distribute': None, '_device_fn': None, '_service': None, '_cluster_spec': <tensorflow.python.training.server_lib.ClusterSpec object at 0xb2f370550>, '_task_type': 'worker', '_task_id': 0, '_global_id_in_cluster': 0, '_master': '', '_evaluation_master': '', '_is_chief': True, '_num_ps_replicas': 0, '_num_worker_replicas': 1}\n"
     ]
    },
    {
     "name": "stderr",
     "output_type": "stream",
     "text": [
      "I1108 17:53:39.234163 4508718528 tf_logging.py:115] Using config: {'_model_dir': '/var/folders/3b/dmy02jxd7p5dr090fr5s2tq00000gn/T/tmpztea0mwd', '_tf_random_seed': None, '_save_summary_steps': 100, '_save_checkpoints_steps': None, '_save_checkpoints_secs': 600, '_session_config': None, '_keep_checkpoint_max': 5, '_keep_checkpoint_every_n_hours': 10000, '_log_step_count_steps': 100, '_train_distribute': None, '_device_fn': None, '_service': None, '_cluster_spec': <tensorflow.python.training.server_lib.ClusterSpec object at 0xb2f370550>, '_task_type': 'worker', '_task_id': 0, '_global_id_in_cluster': 0, '_master': '', '_evaluation_master': '', '_is_chief': True, '_num_ps_replicas': 0, '_num_worker_replicas': 1}\n"
     ]
    }
   ],
   "source": [
    "\n",
    "import tempfile\n",
    "\n",
    "base_columns = [\n",
    "    education, marital_status, relationship, workclass, occupation,\n",
    "    age_buckets,\n",
    "]\n",
    "\n",
    "crossed_columns = [\n",
    "    tf.feature_column.crossed_column(\n",
    "        ['education', 'occupation'], hash_bucket_size=1000),\n",
    "    tf.feature_column.crossed_column(\n",
    "        [age_buckets, 'education', 'occupation'], hash_bucket_size=1000),\n",
    "]\n",
    "\n",
    "model = tf.estimator.LinearClassifier(\n",
    "    model_dir=tempfile.mkdtemp(), \n",
    "    feature_columns=base_columns + crossed_columns,\n",
    "    optimizer=tf.train.FtrlOptimizer(learning_rate=0.1))"
   ]
  },
  {
   "cell_type": "code",
   "execution_count": 38,
   "metadata": {},
   "outputs": [],
   "source": [
    "train_inpf = functools.partial(census_dataset.input_fn, train_file, \n",
    "                               num_epochs=40, shuffle=True, batch_size=64)\n",
    "\n",
    "model.train(train_inpf)\n",
    "\n",
    "clear_output()  # used for notebook display"
   ]
  },
  {
   "cell_type": "code",
   "execution_count": 39,
   "metadata": {},
   "outputs": [
    {
     "name": "stdout",
     "output_type": "stream",
     "text": [
      "accuracy: 0.82\n",
      "accuracy_baseline: 0.76\n",
      "auc: 0.86\n",
      "auc_precision_recall: 0.63\n",
      "average_loss: 0.82\n",
      "global_step: 1018.00\n",
      "label/mean: 0.24\n",
      "loss: 52.19\n",
      "precision: 0.61\n",
      "prediction/mean: 0.27\n",
      "recall: 0.62\n"
     ]
    }
   ],
   "source": [
    "results = model.evaluate(test_inpf)\n",
    "\n",
    "clear_output()\n",
    "\n",
    "for key,value in sorted(result.items()):\n",
    "  print('%s: %0.2f' % (key, value))"
   ]
  },
  {
   "cell_type": "code",
   "execution_count": 40,
   "metadata": {},
   "outputs": [
    {
     "data": {
      "text/html": [
       "<div>\n",
       "<style scoped>\n",
       "    .dataframe tbody tr th:only-of-type {\n",
       "        vertical-align: middle;\n",
       "    }\n",
       "\n",
       "    .dataframe tbody tr th {\n",
       "        vertical-align: top;\n",
       "    }\n",
       "\n",
       "    .dataframe thead th {\n",
       "        text-align: right;\n",
       "    }\n",
       "</style>\n",
       "<table border=\"1\" class=\"dataframe\">\n",
       "  <thead>\n",
       "    <tr style=\"text-align: right;\">\n",
       "      <th></th>\n",
       "      <th>income_bracket</th>\n",
       "      <th>predicted_class</th>\n",
       "      <th>correct</th>\n",
       "    </tr>\n",
       "  </thead>\n",
       "  <tbody>\n",
       "    <tr>\n",
       "      <th>0</th>\n",
       "      <td>&lt;=50K</td>\n",
       "      <td>&lt;=50K</td>\n",
       "      <td>True</td>\n",
       "    </tr>\n",
       "    <tr>\n",
       "      <th>1</th>\n",
       "      <td>&lt;=50K</td>\n",
       "      <td>&lt;=50K</td>\n",
       "      <td>True</td>\n",
       "    </tr>\n",
       "    <tr>\n",
       "      <th>2</th>\n",
       "      <td>&gt;50K</td>\n",
       "      <td>&lt;=50K</td>\n",
       "      <td>False</td>\n",
       "    </tr>\n",
       "    <tr>\n",
       "      <th>3</th>\n",
       "      <td>&gt;50K</td>\n",
       "      <td>&lt;=50K</td>\n",
       "      <td>False</td>\n",
       "    </tr>\n",
       "    <tr>\n",
       "      <th>4</th>\n",
       "      <td>&lt;=50K</td>\n",
       "      <td>&lt;=50K</td>\n",
       "      <td>True</td>\n",
       "    </tr>\n",
       "    <tr>\n",
       "      <th>5</th>\n",
       "      <td>&lt;=50K</td>\n",
       "      <td>&lt;=50K</td>\n",
       "      <td>True</td>\n",
       "    </tr>\n",
       "    <tr>\n",
       "      <th>6</th>\n",
       "      <td>&lt;=50K</td>\n",
       "      <td>&lt;=50K</td>\n",
       "      <td>True</td>\n",
       "    </tr>\n",
       "    <tr>\n",
       "      <th>7</th>\n",
       "      <td>&gt;50K</td>\n",
       "      <td>&gt;50K</td>\n",
       "      <td>True</td>\n",
       "    </tr>\n",
       "    <tr>\n",
       "      <th>8</th>\n",
       "      <td>&lt;=50K</td>\n",
       "      <td>&lt;=50K</td>\n",
       "      <td>True</td>\n",
       "    </tr>\n",
       "    <tr>\n",
       "      <th>9</th>\n",
       "      <td>&lt;=50K</td>\n",
       "      <td>&lt;=50K</td>\n",
       "      <td>True</td>\n",
       "    </tr>\n",
       "    <tr>\n",
       "      <th>10</th>\n",
       "      <td>&gt;50K</td>\n",
       "      <td>&lt;=50K</td>\n",
       "      <td>False</td>\n",
       "    </tr>\n",
       "    <tr>\n",
       "      <th>11</th>\n",
       "      <td>&lt;=50K</td>\n",
       "      <td>&gt;50K</td>\n",
       "      <td>False</td>\n",
       "    </tr>\n",
       "    <tr>\n",
       "      <th>12</th>\n",
       "      <td>&lt;=50K</td>\n",
       "      <td>&lt;=50K</td>\n",
       "      <td>True</td>\n",
       "    </tr>\n",
       "    <tr>\n",
       "      <th>13</th>\n",
       "      <td>&lt;=50K</td>\n",
       "      <td>&lt;=50K</td>\n",
       "      <td>True</td>\n",
       "    </tr>\n",
       "    <tr>\n",
       "      <th>14</th>\n",
       "      <td>&gt;50K</td>\n",
       "      <td>&lt;=50K</td>\n",
       "      <td>False</td>\n",
       "    </tr>\n",
       "    <tr>\n",
       "      <th>15</th>\n",
       "      <td>&gt;50K</td>\n",
       "      <td>&gt;50K</td>\n",
       "      <td>True</td>\n",
       "    </tr>\n",
       "    <tr>\n",
       "      <th>16</th>\n",
       "      <td>&lt;=50K</td>\n",
       "      <td>&lt;=50K</td>\n",
       "      <td>True</td>\n",
       "    </tr>\n",
       "    <tr>\n",
       "      <th>17</th>\n",
       "      <td>&lt;=50K</td>\n",
       "      <td>&lt;=50K</td>\n",
       "      <td>True</td>\n",
       "    </tr>\n",
       "    <tr>\n",
       "      <th>18</th>\n",
       "      <td>&lt;=50K</td>\n",
       "      <td>&lt;=50K</td>\n",
       "      <td>True</td>\n",
       "    </tr>\n",
       "    <tr>\n",
       "      <th>19</th>\n",
       "      <td>&gt;50K</td>\n",
       "      <td>&gt;50K</td>\n",
       "      <td>True</td>\n",
       "    </tr>\n",
       "  </tbody>\n",
       "</table>\n",
       "</div>"
      ],
      "text/plain": [
       "   income_bracket predicted_class  correct\n",
       "0           <=50K           <=50K     True\n",
       "1           <=50K           <=50K     True\n",
       "2            >50K           <=50K    False\n",
       "3            >50K           <=50K    False\n",
       "4           <=50K           <=50K     True\n",
       "5           <=50K           <=50K     True\n",
       "6           <=50K           <=50K     True\n",
       "7            >50K            >50K     True\n",
       "8           <=50K           <=50K     True\n",
       "9           <=50K           <=50K     True\n",
       "10           >50K           <=50K    False\n",
       "11          <=50K            >50K    False\n",
       "12          <=50K           <=50K     True\n",
       "13          <=50K           <=50K     True\n",
       "14           >50K           <=50K    False\n",
       "15           >50K            >50K     True\n",
       "16          <=50K           <=50K     True\n",
       "17          <=50K           <=50K     True\n",
       "18          <=50K           <=50K     True\n",
       "19           >50K            >50K     True"
      ]
     },
     "execution_count": 40,
     "metadata": {},
     "output_type": "execute_result"
    }
   ],
   "source": [
    "import numpy as np\n",
    "\n",
    "predict_df = test_df[:20].copy()\n",
    "\n",
    "pred_iter = model.predict(\n",
    "    lambda:easy_input_function(predict_df, label_key='income_bracket',\n",
    "                               num_epochs=1, shuffle=False, batch_size=10))\n",
    "\n",
    "classes = np.array(['<=50K', '>50K'])\n",
    "pred_class_id = []\n",
    "\n",
    "for pred_dict in pred_iter:\n",
    "  pred_class_id.append(pred_dict['class_ids'])\n",
    "\n",
    "predict_df['predicted_class'] = classes[np.array(pred_class_id)]\n",
    "predict_df['correct'] = predict_df['predicted_class'] == predict_df['income_bracket']\n",
    "\n",
    "clear_output()\n",
    "\n",
    "predict_df[['income_bracket','predicted_class', 'correct']]"
   ]
  },
  {
   "cell_type": "code",
   "execution_count": 41,
   "metadata": {},
   "outputs": [
    {
     "name": "stdout",
     "output_type": "stream",
     "text": [
      "accuracy: 0.84\n",
      "accuracy_baseline: 0.76\n",
      "auc: 0.88\n",
      "auc_precision_recall: 0.69\n",
      "average_loss: 0.35\n",
      "global_step: 20351.00\n",
      "label/mean: 0.24\n",
      "loss: 22.47\n",
      "precision: 0.69\n",
      "prediction/mean: 0.24\n",
      "recall: 0.55\n"
     ]
    }
   ],
   "source": [
    "model_l1 = tf.estimator.LinearClassifier(\n",
    "    feature_columns=base_columns + crossed_columns,\n",
    "    optimizer=tf.train.FtrlOptimizer(\n",
    "        learning_rate=0.1,\n",
    "        l1_regularization_strength=10.0,\n",
    "        l2_regularization_strength=0.0))\n",
    "\n",
    "model_l1.train(train_inpf)\n",
    "\n",
    "results = model_l1.evaluate(test_inpf)\n",
    "clear_output()\n",
    "for key in sorted(results):\n",
    "  print('%s: %0.2f' % (key, results[key]))"
   ]
  },
  {
   "cell_type": "code",
   "execution_count": 42,
   "metadata": {},
   "outputs": [
    {
     "name": "stdout",
     "output_type": "stream",
     "text": [
      "accuracy: 0.84\n",
      "accuracy_baseline: 0.76\n",
      "auc: 0.88\n",
      "auc_precision_recall: 0.69\n",
      "average_loss: 0.35\n",
      "global_step: 20351.00\n",
      "label/mean: 0.24\n",
      "loss: 22.46\n",
      "precision: 0.69\n",
      "prediction/mean: 0.23\n",
      "recall: 0.55\n"
     ]
    }
   ],
   "source": [
    "model_l2 = tf.estimator.LinearClassifier(\n",
    "    feature_columns=base_columns + crossed_columns,\n",
    "    optimizer=tf.train.FtrlOptimizer(\n",
    "        learning_rate=0.1,\n",
    "        l1_regularization_strength=0.0,\n",
    "        l2_regularization_strength=10.0))\n",
    "\n",
    "model_l2.train(train_inpf)\n",
    "\n",
    "results = model_l2.evaluate(test_inpf)\n",
    "clear_output()\n",
    "for key in sorted(results):\n",
    "  print('%s: %0.2f' % (key, results[key]))"
   ]
  },
  {
   "cell_type": "code",
   "execution_count": 43,
   "metadata": {},
   "outputs": [],
   "source": [
    "def get_flat_weights(model):\n",
    "  weight_names = [\n",
    "      name for name in model.get_variable_names()\n",
    "      if \"linear_model\" in name and \"Ftrl\" not in name]\n",
    "\n",
    "  weight_values = [model.get_variable_value(name) for name in weight_names]\n",
    "\n",
    "  weights_flat = np.concatenate([item.flatten() for item in weight_values], axis=0)\n",
    "\n",
    "  return weights_flat\n",
    "\n",
    "weights_flat = get_flat_weights(model)\n",
    "weights_flat_l1 = get_flat_weights(model_l1)\n",
    "weights_flat_l2 = get_flat_weights(model_l2)"
   ]
  },
  {
   "cell_type": "code",
   "execution_count": 44,
   "metadata": {},
   "outputs": [],
   "source": [
    "weight_mask = weights_flat != 0\n",
    "\n",
    "weights_base = weights_flat[weight_mask]\n",
    "weights_l1 = weights_flat_l1[weight_mask]\n",
    "weights_l2 = weights_flat_l2[weight_mask]"
   ]
  },
  {
   "cell_type": "code",
   "execution_count": 45,
   "metadata": {},
   "outputs": [
    {
     "data": {
      "image/png": "[encoded data removed]",
      "text/plain": [
       "<Figure size 432x288 with 1 Axes>"
      ]
     },
     "metadata": {
      "needs_background": "light"
     },
     "output_type": "display_data"
    },
    {
     "data": {
      "image/png": "[encoded data removed]",
      "text/plain": [
       "<Figure size 432x288 with 1 Axes>"
      ]
     },
     "metadata": {
      "needs_background": "light"
     },
     "output_type": "display_data"
    },
    {
     "data": {
      "image/png": "[encoded data removed]",
      "text/plain": [
       "<Figure size 432x288 with 1 Axes>"
      ]
     },
     "metadata": {
      "needs_background": "light"
     },
     "output_type": "display_data"
    }
   ],
   "source": [
    "plt.figure()\n",
    "_ = plt.hist(weights_base, bins=np.linspace(-3,3,30))\n",
    "plt.title('Base Model')\n",
    "plt.ylim([0,500])\n",
    "\n",
    "plt.figure()\n",
    "_ = plt.hist(weights_l1, bins=np.linspace(-3,3,30))\n",
    "plt.title('L1 - Regularization')\n",
    "plt.ylim([0,500])\n",
    "\n",
    "plt.figure()\n",
    "_ = plt.hist(weights_l2, bins=np.linspace(-3,3,30))\n",
    "plt.title('L2 - Regularization')\n",
    "_=plt.ylim([0,500])"
   ]
  },
  {
   "cell_type": "code",
   "execution_count": null,
   "metadata": {},
   "outputs": [],
   "source": []
  }
 ],
 "metadata": {
  "kernelspec": {
   "display_name": "Python 3",
   "language": "python",
   "name": "python3"
  },
  "language_info": {
   "codemirror_mode": {
    "name": "ipython",
    "version": 3
   },
   "file_extension": ".py",
   "mimetype": "text/x-python",
   "name": "python",
   "nbconvert_exporter": "python",
   "pygments_lexer": "ipython3",
   "version": "3.6.6"
  }
 },
 "nbformat": 4,
 "nbformat_minor": 2
}
