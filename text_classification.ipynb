{
 "cells": [
  {
   "cell_type": "code",
   "execution_count": 1,
   "metadata": {},
   "outputs": [
    {
     "name": "stdout",
     "output_type": "stream",
     "text": [
      "1.10.0\n"
     ]
    }
   ],
   "source": [
    "import tensorflow as tf\n",
    "from tensorflow import keras\n",
    "\n",
    "import numpy as np\n",
    "\n",
    "print(tf.__version__)"
   ]
  },
  {
   "cell_type": "code",
   "execution_count": 2,
   "metadata": {},
   "outputs": [
    {
     "name": "stdout",
     "output_type": "stream",
     "text": [
      "Downloading data from https://storage.googleapis.com/tensorflow/tf-keras-datasets/imdb.npz\n",
      "17465344/17464789 [==============================] - 1s 0us/step\n"
     ]
    }
   ],
   "source": [
    "imdb = keras.datasets.imdb\n",
    "\n",
    "(train_data, train_labels), (test_data, test_labels) = imdb.load_data(num_words=10000)"
   ]
  },
  {
   "cell_type": "code",
   "execution_count": 3,
   "metadata": {},
   "outputs": [
    {
     "name": "stdout",
     "output_type": "stream",
     "text": [
      "Training entries: 25000, labels: 25000\n"
     ]
    }
   ],
   "source": [
    "print(\"Training entries: {}, labels: {}\".format(len(train_data), len(train_labels)))"
   ]
  },
  {
   "cell_type": "code",
   "execution_count": 4,
   "metadata": {},
   "outputs": [
    {
     "name": "stdout",
     "output_type": "stream",
     "text": [
      "[1, 14, 22, 16, 43, 530, 973, 1622, 1385, 65, 458, 4468, 66, 3941, 4, 173, 36, 256, 5, 25, 100, 43, 838, 112, 50, 670, 2, 9, 35, 480, 284, 5, 150, 4, 172, 112, 167, 2, 336, 385, 39, 4, 172, 4536, 1111, 17, 546, 38, 13, 447, 4, 192, 50, 16, 6, 147, 2025, 19, 14, 22, 4, 1920, 4613, 469, 4, 22, 71, 87, 12, 16, 43, 530, 38, 76, 15, 13, 1247, 4, 22, 17, 515, 17, 12, 16, 626, 18, 2, 5, 62, 386, 12, 8, 316, 8, 106, 5, 4, 2223, 5244, 16, 480, 66, 3785, 33, 4, 130, 12, 16, 38, 619, 5, 25, 124, 51, 36, 135, 48, 25, 1415, 33, 6, 22, 12, 215, 28, 77, 52, 5, 14, 407, 16, 82, 2, 8, 4, 107, 117, 5952, 15, 256, 4, 2, 7, 3766, 5, 723, 36, 71, 43, 530, 476, 26, 400, 317, 46, 7, 4, 2, 1029, 13, 104, 88, 4, 381, 15, 297, 98, 32, 2071, 56, 26, 141, 6, 194, 7486, 18, 4, 226, 22, 21, 134, 476, 26, 480, 5, 144, 30, 5535, 18, 51, 36, 28, 224, 92, 25, 104, 4, 226, 65, 16, 38, 1334, 88, 12, 16, 283, 5, 16, 4472, 113, 103, 32, 15, 16, 5345, 19, 178, 32]\n"
     ]
    }
   ],
   "source": [
    "print(train_data[0])"
   ]
  },
  {
   "cell_type": "code",
   "execution_count": 5,
   "metadata": {},
   "outputs": [
    {
     "data": {
      "text/plain": [
       "(218, 189)"
      ]
     },
     "execution_count": 5,
     "metadata": {},
     "output_type": "execute_result"
    }
   ],
   "source": [
    "len(train_data[0]), len(train_data[1])"
   ]
  },
  {
   "cell_type": "code",
   "execution_count": 6,
   "metadata": {},
   "outputs": [
    {
     "name": "stdout",
     "output_type": "stream",
     "text": [
      "Downloading data from https://storage.googleapis.com/tensorflow/tf-keras-datasets/imdb_word_index.json\n",
      "1646592/1641221 [==============================] - 0s 0us/step\n"
     ]
    }
   ],
   "source": [
    "# A dictionary mapping words to an integer index\n",
    "word_index = imdb.get_word_index()"
   ]
  },
  {
   "cell_type": "code",
   "execution_count": 9,
   "metadata": {},
   "outputs": [],
   "source": [
    "# The first indices are reserved\n",
    "word_index = {k:(v+3) for k,v in word_index.items()} \n",
    "word_index[\"<PAD>\"] = 0\n",
    "word_index[\"<START>\"] = 1\n",
    "word_index[\"<UNK>\"] = 2  # unknown\n",
    "word_index[\"<UNUSED>\"] = 3\n",
    "\n",
    "reverse_word_index = dict([(value, key) for (key, value) in word_index.items()])\n",
    "\n",
    "def decode_review(text):\n",
    "    return ' '.join([reverse_word_index.get(i, '?') for i in text])"
   ]
  },
  {
   "cell_type": "code",
   "execution_count": 12,
   "metadata": {},
   "outputs": [
    {
     "data": {
      "text/plain": [
       "\"<START> this film was just brilliant casting location scenery story direction everyone's really suited the part they played and you could just imagine being there robert <UNK> is an amazing actor and now the same being director <UNK> father came from the same scottish island as myself so i loved the fact there was a real connection with this film the witty remarks throughout the film were great it was just brilliant so much that i bought the film as soon as it was released for <UNK> and would recommend it to everyone to watch and the fly fishing was amazing really cried at the end it was so sad and you know what they say if you cry at a film it must have been good and this definitely was also <UNK> to the two little boy's that played the <UNK> of norman and paul they were just brilliant children are often left out of the <UNK> list i think because the stars that play them all grown up are such a big profile for the whole film but these children are amazing and should be praised for what they have done don't you think the whole story was so lovely because it was true and was someone's life after all that was shared with us all\""
      ]
     },
     "execution_count": 12,
     "metadata": {},
     "output_type": "execute_result"
    }
   ],
   "source": [
    "decode_review(train_data[0])"
   ]
  },
  {
   "cell_type": "code",
   "execution_count": 13,
   "metadata": {},
   "outputs": [],
   "source": [
    "train_data = keras.preprocessing.sequence.pad_sequences(train_data,\n",
    "                                                        value=word_index[\"<PAD>\"],\n",
    "                                                        padding='post',\n",
    "                                                        maxlen=256)\n",
    "\n",
    "test_data = keras.preprocessing.sequence.pad_sequences(test_data,\n",
    "                                                       value=word_index[\"<PAD>\"],\n",
    "                                                       padding='post',\n",
    "                                                       maxlen=256)"
   ]
  },
  {
   "cell_type": "code",
   "execution_count": 14,
   "metadata": {},
   "outputs": [
    {
     "data": {
      "text/plain": [
       "(256, 256)"
      ]
     },
     "execution_count": 14,
     "metadata": {},
     "output_type": "execute_result"
    }
   ],
   "source": [
    "len(train_data[0]), len(train_data[1])"
   ]
  },
  {
   "cell_type": "code",
   "execution_count": 15,
   "metadata": {},
   "outputs": [
    {
     "name": "stdout",
     "output_type": "stream",
     "text": [
      "[   1   14   22   16   43  530  973 1622 1385   65  458 4468   66 3941\n",
      "    4  173   36  256    5   25  100   43  838  112   50  670    2    9\n",
      "   35  480  284    5  150    4  172  112  167    2  336  385   39    4\n",
      "  172 4536 1111   17  546   38   13  447    4  192   50   16    6  147\n",
      " 2025   19   14   22    4 1920 4613  469    4   22   71   87   12   16\n",
      "   43  530   38   76   15   13 1247    4   22   17  515   17   12   16\n",
      "  626   18    2    5   62  386   12    8  316    8  106    5    4 2223\n",
      " 5244   16  480   66 3785   33    4  130   12   16   38  619    5   25\n",
      "  124   51   36  135   48   25 1415   33    6   22   12  215   28   77\n",
      "   52    5   14  407   16   82    2    8    4  107  117 5952   15  256\n",
      "    4    2    7 3766    5  723   36   71   43  530  476   26  400  317\n",
      "   46    7    4    2 1029   13  104   88    4  381   15  297   98   32\n",
      " 2071   56   26  141    6  194 7486   18    4  226   22   21  134  476\n",
      "   26  480    5  144   30 5535   18   51   36   28  224   92   25  104\n",
      "    4  226   65   16   38 1334   88   12   16  283    5   16 4472  113\n",
      "  103   32   15   16 5345   19  178   32    0    0    0    0    0    0\n",
      "    0    0    0    0    0    0    0    0    0    0    0    0    0    0\n",
      "    0    0    0    0    0    0    0    0    0    0    0    0    0    0\n",
      "    0    0    0    0]\n"
     ]
    }
   ],
   "source": [
    "\n",
    "print(train_data[0])"
   ]
  },
  {
   "cell_type": "code",
   "execution_count": 16,
   "metadata": {},
   "outputs": [
    {
     "name": "stdout",
     "output_type": "stream",
     "text": [
      "_________________________________________________________________\n",
      "Layer (type)                 Output Shape              Param #   \n",
      "=================================================================\n",
      "embedding (Embedding)        (None, None, 16)          160000    \n",
      "_________________________________________________________________\n",
      "global_average_pooling1d (Gl (None, 16)                0         \n",
      "_________________________________________________________________\n",
      "dense (Dense)                (None, 16)                272       \n",
      "_________________________________________________________________\n",
      "dense_1 (Dense)              (None, 1)                 17        \n",
      "=================================================================\n",
      "Total params: 160,289\n",
      "Trainable params: 160,289\n",
      "Non-trainable params: 0\n",
      "_________________________________________________________________\n"
     ]
    }
   ],
   "source": [
    "# input shape is the vocabulary count used for the movie reviews (10,000 words)\n",
    "vocab_size = 10000\n",
    "\n",
    "model = keras.Sequential()\n",
    "model.add(keras.layers.Embedding(vocab_size, 16))\n",
    "model.add(keras.layers.GlobalAveragePooling1D())\n",
    "model.add(keras.layers.Dense(16, activation=tf.nn.relu))\n",
    "model.add(keras.layers.Dense(1, activation=tf.nn.sigmoid))\n",
    "\n",
    "model.summary()"
   ]
  },
  {
   "cell_type": "code",
   "execution_count": 17,
   "metadata": {},
   "outputs": [],
   "source": [
    "model.compile(optimizer=tf.train.AdamOptimizer(),\n",
    "              loss='binary_crossentropy',\n",
    "              metrics=['accuracy'])"
   ]
  },
  {
   "cell_type": "code",
   "execution_count": 18,
   "metadata": {},
   "outputs": [],
   "source": [
    "x_val = train_data[:10000]\n",
    "partial_x_train = train_data[10000:]\n",
    "\n",
    "y_val = train_labels[:10000]\n",
    "partial_y_train = train_labels[10000:]"
   ]
  },
  {
   "cell_type": "code",
   "execution_count": 19,
   "metadata": {},
   "outputs": [
    {
     "name": "stdout",
     "output_type": "stream",
     "text": [
      "Train on 15000 samples, validate on 10000 samples\n",
      "Epoch 1/40\n",
      "15000/15000 [==============================] - 1s 38us/step - loss: 0.6965 - acc: 0.4922 - val_loss: 0.6928 - val_acc: 0.5080\n",
      "Epoch 2/40\n",
      "15000/15000 [==============================] - 0s 17us/step - loss: 0.6923 - acc: 0.5224 - val_loss: 0.6919 - val_acc: 0.5382\n",
      "Epoch 3/40\n",
      "15000/15000 [==============================] - 0s 18us/step - loss: 0.6911 - acc: 0.5447 - val_loss: 0.6907 - val_acc: 0.5596\n",
      "Epoch 4/40\n",
      "15000/15000 [==============================] - 0s 17us/step - loss: 0.6896 - acc: 0.5615 - val_loss: 0.6891 - val_acc: 0.5809\n",
      "Epoch 5/40\n",
      "15000/15000 [==============================] - 0s 19us/step - loss: 0.6875 - acc: 0.5909 - val_loss: 0.6868 - val_acc: 0.6129\n",
      "Epoch 6/40\n",
      "15000/15000 [==============================] - 0s 22us/step - loss: 0.6844 - acc: 0.6467 - val_loss: 0.6833 - val_acc: 0.6631\n",
      "Epoch 7/40\n",
      "15000/15000 [==============================] - 0s 19us/step - loss: 0.6800 - acc: 0.6940 - val_loss: 0.6786 - val_acc: 0.6822\n",
      "Epoch 8/40\n",
      "15000/15000 [==============================] - 0s 18us/step - loss: 0.6735 - acc: 0.7257 - val_loss: 0.6714 - val_acc: 0.7286\n",
      "Epoch 9/40\n",
      "15000/15000 [==============================] - 0s 21us/step - loss: 0.6641 - acc: 0.7547 - val_loss: 0.6611 - val_acc: 0.7513\n",
      "Epoch 10/40\n",
      "15000/15000 [==============================] - 0s 17us/step - loss: 0.6505 - acc: 0.7775 - val_loss: 0.6462 - val_acc: 0.7712\n",
      "Epoch 11/40\n",
      "15000/15000 [==============================] - 0s 17us/step - loss: 0.6322 - acc: 0.7733 - val_loss: 0.6270 - val_acc: 0.7735\n",
      "Epoch 12/40\n",
      "15000/15000 [==============================] - 0s 18us/step - loss: 0.6082 - acc: 0.7879 - val_loss: 0.6032 - val_acc: 0.7794\n",
      "Epoch 13/40\n",
      "15000/15000 [==============================] - 0s 23us/step - loss: 0.5798 - acc: 0.7983 - val_loss: 0.5775 - val_acc: 0.7839\n",
      "Epoch 14/40\n",
      "15000/15000 [==============================] - 0s 18us/step - loss: 0.5494 - acc: 0.8077 - val_loss: 0.5488 - val_acc: 0.7972\n",
      "Epoch 15/40\n",
      "15000/15000 [==============================] - 0s 24us/step - loss: 0.5178 - acc: 0.8180 - val_loss: 0.5202 - val_acc: 0.8040\n",
      "Epoch 16/40\n",
      "15000/15000 [==============================] - 0s 25us/step - loss: 0.4877 - acc: 0.8274 - val_loss: 0.4942 - val_acc: 0.8114\n",
      "Epoch 17/40\n",
      "15000/15000 [==============================] - 0s 27us/step - loss: 0.4584 - acc: 0.8400 - val_loss: 0.4696 - val_acc: 0.8242\n",
      "Epoch 18/40\n",
      "15000/15000 [==============================] - 0s 28us/step - loss: 0.4317 - acc: 0.8487 - val_loss: 0.4468 - val_acc: 0.8319\n",
      "Epoch 19/40\n",
      "15000/15000 [==============================] - 0s 26us/step - loss: 0.4074 - acc: 0.8585 - val_loss: 0.4267 - val_acc: 0.8389\n",
      "Epoch 20/40\n",
      "15000/15000 [==============================] - 0s 26us/step - loss: 0.3857 - acc: 0.8667 - val_loss: 0.4093 - val_acc: 0.8438\n",
      "Epoch 21/40\n",
      "15000/15000 [==============================] - 0s 25us/step - loss: 0.3660 - acc: 0.8740 - val_loss: 0.3936 - val_acc: 0.8502\n",
      "Epoch 22/40\n",
      "15000/15000 [==============================] - 0s 22us/step - loss: 0.3487 - acc: 0.8801 - val_loss: 0.3803 - val_acc: 0.8536\n",
      "Epoch 23/40\n",
      "15000/15000 [==============================] - 0s 18us/step - loss: 0.3335 - acc: 0.8853 - val_loss: 0.3691 - val_acc: 0.8564\n",
      "Epoch 24/40\n",
      "15000/15000 [==============================] - 0s 19us/step - loss: 0.3196 - acc: 0.8881 - val_loss: 0.3589 - val_acc: 0.8595\n",
      "Epoch 25/40\n",
      "15000/15000 [==============================] - 0s 19us/step - loss: 0.3072 - acc: 0.8932 - val_loss: 0.3502 - val_acc: 0.8635\n",
      "Epoch 26/40\n",
      "15000/15000 [==============================] - 0s 19us/step - loss: 0.2961 - acc: 0.8949 - val_loss: 0.3426 - val_acc: 0.8657\n",
      "Epoch 27/40\n",
      "15000/15000 [==============================] - 0s 19us/step - loss: 0.2862 - acc: 0.8978 - val_loss: 0.3360 - val_acc: 0.8678\n",
      "Epoch 28/40\n",
      "15000/15000 [==============================] - 0s 18us/step - loss: 0.2767 - acc: 0.9017 - val_loss: 0.3301 - val_acc: 0.8700\n",
      "Epoch 29/40\n",
      "15000/15000 [==============================] - 0s 18us/step - loss: 0.2680 - acc: 0.9044 - val_loss: 0.3250 - val_acc: 0.8730\n",
      "Epoch 30/40\n",
      "15000/15000 [==============================] - 0s 18us/step - loss: 0.2606 - acc: 0.9060 - val_loss: 0.3205 - val_acc: 0.8748\n",
      "Epoch 31/40\n",
      "15000/15000 [==============================] - 0s 18us/step - loss: 0.2526 - acc: 0.9095 - val_loss: 0.3164 - val_acc: 0.8754\n",
      "Epoch 32/40\n",
      "15000/15000 [==============================] - 0s 18us/step - loss: 0.2461 - acc: 0.9120 - val_loss: 0.3129 - val_acc: 0.8772\n",
      "Epoch 33/40\n",
      "15000/15000 [==============================] - 0s 18us/step - loss: 0.2392 - acc: 0.9154 - val_loss: 0.3100 - val_acc: 0.8780\n",
      "Epoch 34/40\n",
      "15000/15000 [==============================] - 0s 17us/step - loss: 0.2329 - acc: 0.9177 - val_loss: 0.3069 - val_acc: 0.8800\n",
      "Epoch 35/40\n",
      "15000/15000 [==============================] - 0s 18us/step - loss: 0.2272 - acc: 0.9191 - val_loss: 0.3043 - val_acc: 0.8809\n",
      "Epoch 36/40\n",
      "15000/15000 [==============================] - 0s 18us/step - loss: 0.2212 - acc: 0.9217 - val_loss: 0.3022 - val_acc: 0.8814\n",
      "Epoch 37/40\n",
      "15000/15000 [==============================] - 0s 17us/step - loss: 0.2160 - acc: 0.9237 - val_loss: 0.3007 - val_acc: 0.8801\n",
      "Epoch 38/40\n",
      "15000/15000 [==============================] - 0s 18us/step - loss: 0.2109 - acc: 0.9257 - val_loss: 0.2980 - val_acc: 0.8812\n",
      "Epoch 39/40\n",
      "15000/15000 [==============================] - 0s 17us/step - loss: 0.2056 - acc: 0.9279 - val_loss: 0.2966 - val_acc: 0.8814\n",
      "Epoch 40/40\n",
      "15000/15000 [==============================] - 0s 18us/step - loss: 0.2008 - acc: 0.9285 - val_loss: 0.2948 - val_acc: 0.8822\n"
     ]
    }
   ],
   "source": [
    "history = model.fit(partial_x_train,\n",
    "                    partial_y_train,\n",
    "                    epochs=40,\n",
    "                    batch_size=512,\n",
    "                    validation_data=(x_val, y_val),\n",
    "                    verbose=1)"
   ]
  },
  {
   "cell_type": "code",
   "execution_count": 20,
   "metadata": {},
   "outputs": [
    {
     "name": "stdout",
     "output_type": "stream",
     "text": [
      "25000/25000 [==============================] - 0s 14us/step\n",
      "[0.308542179775238, 0.87296]\n"
     ]
    }
   ],
   "source": [
    "results = model.evaluate(test_data, test_labels)\n",
    "\n",
    "print(results)"
   ]
  },
  {
   "cell_type": "code",
   "execution_count": 21,
   "metadata": {},
   "outputs": [
    {
     "data": {
      "text/plain": [
       "dict_keys(['val_loss', 'val_acc', 'loss', 'acc'])"
      ]
     },
     "execution_count": 21,
     "metadata": {},
     "output_type": "execute_result"
    }
   ],
   "source": [
    "\n",
    "history_dict = history.history\n",
    "history_dict.keys()"
   ]
  },
  {
   "cell_type": "code",
   "execution_count": 26,
   "metadata": {},
   "outputs": [
    {
     "data": {
      "image/png": "[encoded data removed]",
      "text/plain": [
       "<Figure size 432x288 with 1 Axes>"
      ]
     },
     "metadata": {
      "needs_background": "light"
     },
     "output_type": "display_data"
    }
   ],
   "source": [
    "import matplotlib.pyplot as plt\n",
    "\n",
    "acc = history.history['acc']\n",
    "val_acc = history.history['val_acc']\n",
    "loss = history.history['loss']\n",
    "val_loss = history.history['val_loss']\n",
    "\n",
    "epochs = range(1, len(acc) + 1)\n",
    "\n",
    "# \"bo\" is for \"blue dot\"\n",
    "plt.plot(epochs, loss, 'bo', label='Training loss')\n",
    "# b is for \"solid blue line\"\n",
    "plt.plot(epochs, val_loss, 'b', label='Validation loss')\n",
    "plt.title('Training and validation loss')\n",
    "plt.xlabel('Epochs')\n",
    "plt.ylabel('Loss')\n",
    "plt.legend()\n",
    "\n",
    "plt.show()"
   ]
  },
  {
   "cell_type": "code",
   "execution_count": 25,
   "metadata": {},
   "outputs": [
    {
     "data": {
      "image/png": "[encoded data removed]",
      "text/plain": [
       "<Figure size 432x288 with 1 Axes>"
      ]
     },
     "metadata": {
      "needs_background": "light"
     },
     "output_type": "display_data"
    }
   ],
   "source": [
    "plt.clf()   # clear figure\n",
    "acc_values = history_dict['acc']\n",
    "val_acc_values = history_dict['val_acc']\n",
    "\n",
    "plt.plot(epochs, acc, 'bo', label='Training acc')\n",
    "plt.plot(epochs, val_acc, 'b', label='Validation acc')\n",
    "plt.title('Training and validation accuracy')\n",
    "plt.xlabel('Epochs')\n",
    "plt.ylabel('Accuracy')\n",
    "plt.legend()\n",
    "\n",
    "plt.show()"
   ]
  },
  {
   "cell_type": "code",
   "execution_count": null,
   "metadata": {},
   "outputs": [],
   "source": []
  }
 ],
 "metadata": {
  "kernelspec": {
   "display_name": "Python 3",
   "language": "python",
   "name": "python3"
  },
  "language_info": {
   "codemirror_mode": {
    "name": "ipython",
    "version": 3
   },
   "file_extension": ".py",
   "mimetype": "text/x-python",
   "name": "python",
   "nbconvert_exporter": "python",
   "pygments_lexer": "ipython3",
   "version": "3.6.6"
  }
 },
 "nbformat": 4,
 "nbformat_minor": 2
}
